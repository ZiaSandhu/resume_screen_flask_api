{
  "cells": [
    {
      "cell_type": "code",
      "execution_count": 28,
      "metadata": {
        "id": "mKRJYhke0f9J"
      },
      "outputs": [],
      "source": [
        "import pandas as pd\n",
        "from sklearn.model_selection import train_test_split\n",
        "from sklearn.feature_extraction.text import TfidfVectorizer\n",
        "from sklearn.ensemble import RandomForestClassifier\n",
        "from sklearn.metrics import accuracy_score, classification_report\n",
        "import joblib"
      ]
    },
    {
      "cell_type": "code",
      "execution_count": 29,
      "metadata": {
        "id": "3b5r4-bkMn2f"
      },
      "outputs": [],
      "source": [
        "datasetPath = \"../../datasets/UpdatedResumeDataSet.csv\""
      ]
    },
    {
      "cell_type": "code",
      "execution_count": 30,
      "metadata": {
        "id": "2yw36XS0Pdl4"
      },
      "outputs": [],
      "source": [
        "dataset = pd.read_csv(datasetPath)"
      ]
    },
    {
      "cell_type": "code",
      "execution_count": 31,
      "metadata": {
        "colab": {
          "base_uri": "https://localhost:8080/",
          "height": 204
        },
        "id": "IV3t5ah6Pj-B",
        "outputId": "58b70d28-b425-4289-cc85-0820ba250984"
      },
      "outputs": [
        {
          "data": {
            "text/html": [
              "<div>\n",
              "<style scoped>\n",
              "    .dataframe tbody tr th:only-of-type {\n",
              "        vertical-align: middle;\n",
              "    }\n",
              "\n",
              "    .dataframe tbody tr th {\n",
              "        vertical-align: top;\n",
              "    }\n",
              "\n",
              "    .dataframe thead th {\n",
              "        text-align: right;\n",
              "    }\n",
              "</style>\n",
              "<table border=\"1\" class=\"dataframe\">\n",
              "  <thead>\n",
              "    <tr style=\"text-align: right;\">\n",
              "      <th></th>\n",
              "      <th>Category</th>\n",
              "      <th>Resume</th>\n",
              "    </tr>\n",
              "  </thead>\n",
              "  <tbody>\n",
              "    <tr>\n",
              "      <th>0</th>\n",
              "      <td>Data Science</td>\n",
              "      <td>Skills * Programming Languages: Python (pandas...</td>\n",
              "    </tr>\n",
              "    <tr>\n",
              "      <th>1</th>\n",
              "      <td>Data Science</td>\n",
              "      <td>Education Details \\r\\nMay 2013 to May 2017 B.E...</td>\n",
              "    </tr>\n",
              "    <tr>\n",
              "      <th>2</th>\n",
              "      <td>Data Science</td>\n",
              "      <td>Areas of Interest Deep Learning, Control Syste...</td>\n",
              "    </tr>\n",
              "    <tr>\n",
              "      <th>3</th>\n",
              "      <td>Data Science</td>\n",
              "      <td>Skills â¢ R â¢ Python â¢ SAP HANA â¢ Table...</td>\n",
              "    </tr>\n",
              "    <tr>\n",
              "      <th>4</th>\n",
              "      <td>Data Science</td>\n",
              "      <td>Education Details \\r\\n MCA   YMCAUST,  Faridab...</td>\n",
              "    </tr>\n",
              "  </tbody>\n",
              "</table>\n",
              "</div>"
            ],
            "text/plain": [
              "       Category                                             Resume\n",
              "0  Data Science  Skills * Programming Languages: Python (pandas...\n",
              "1  Data Science  Education Details \\r\\nMay 2013 to May 2017 B.E...\n",
              "2  Data Science  Areas of Interest Deep Learning, Control Syste...\n",
              "3  Data Science  Skills â¢ R â¢ Python â¢ SAP HANA â¢ Table...\n",
              "4  Data Science  Education Details \\r\\n MCA   YMCAUST,  Faridab..."
            ]
          },
          "execution_count": 31,
          "metadata": {},
          "output_type": "execute_result"
        }
      ],
      "source": [
        "dataset.head()"
      ]
    },
    {
      "cell_type": "code",
      "execution_count": 32,
      "metadata": {
        "colab": {
          "base_uri": "https://localhost:8080/",
          "height": 173
        },
        "id": "e-0gDATKPwmu",
        "outputId": "d6445e2b-0291-4d5b-c6b4-c6be2fce158e"
      },
      "outputs": [
        {
          "data": {
            "text/html": [
              "<div>\n",
              "<style scoped>\n",
              "    .dataframe tbody tr th:only-of-type {\n",
              "        vertical-align: middle;\n",
              "    }\n",
              "\n",
              "    .dataframe tbody tr th {\n",
              "        vertical-align: top;\n",
              "    }\n",
              "\n",
              "    .dataframe thead th {\n",
              "        text-align: right;\n",
              "    }\n",
              "</style>\n",
              "<table border=\"1\" class=\"dataframe\">\n",
              "  <thead>\n",
              "    <tr style=\"text-align: right;\">\n",
              "      <th></th>\n",
              "      <th>Category</th>\n",
              "      <th>Resume</th>\n",
              "    </tr>\n",
              "  </thead>\n",
              "  <tbody>\n",
              "    <tr>\n",
              "      <th>count</th>\n",
              "      <td>962</td>\n",
              "      <td>962</td>\n",
              "    </tr>\n",
              "    <tr>\n",
              "      <th>unique</th>\n",
              "      <td>25</td>\n",
              "      <td>166</td>\n",
              "    </tr>\n",
              "    <tr>\n",
              "      <th>top</th>\n",
              "      <td>Java Developer</td>\n",
              "      <td>Technical Skills Web Technologies: Angular JS,...</td>\n",
              "    </tr>\n",
              "    <tr>\n",
              "      <th>freq</th>\n",
              "      <td>84</td>\n",
              "      <td>18</td>\n",
              "    </tr>\n",
              "  </tbody>\n",
              "</table>\n",
              "</div>"
            ],
            "text/plain": [
              "              Category                                             Resume\n",
              "count              962                                                962\n",
              "unique              25                                                166\n",
              "top     Java Developer  Technical Skills Web Technologies: Angular JS,...\n",
              "freq                84                                                 18"
            ]
          },
          "execution_count": 32,
          "metadata": {},
          "output_type": "execute_result"
        }
      ],
      "source": [
        "dataset.describe()"
      ]
    },
    {
      "cell_type": "code",
      "execution_count": 33,
      "metadata": {
        "id": "bKZgt6OSP2rK"
      },
      "outputs": [],
      "source": [
        "X = dataset['Resume'].values\n",
        "y = dataset['Category'].values"
      ]
    },
    {
      "cell_type": "code",
      "execution_count": 34,
      "metadata": {
        "colab": {
          "base_uri": "https://localhost:8080/"
        },
        "id": "_GPlQizhu78J",
        "outputId": "b5633026-0627-4f54-cfe5-3b9106a9bc49"
      },
      "outputs": [
        {
          "data": {
            "text/plain": [
              "str"
            ]
          },
          "execution_count": 34,
          "metadata": {},
          "output_type": "execute_result"
        }
      ],
      "source": [
        "type(X[0])"
      ]
    },
    {
      "cell_type": "code",
      "execution_count": 35,
      "metadata": {
        "id": "BfBZ7j1NRG4d"
      },
      "outputs": [],
      "source": [
        "X_train, X_test, y_train, y_test = train_test_split(X, y, test_size=0.2, random_state=42)"
      ]
    },
    {
      "cell_type": "code",
      "execution_count": 36,
      "metadata": {
        "id": "8XCbMylIRnyk"
      },
      "outputs": [],
      "source": [
        "vectorizer = TfidfVectorizer(max_features=1000)  # You can adjust max_features as needed\n",
        "X_train_tfidf = vectorizer.fit_transform(X_train)\n",
        "X_test_tfidf = vectorizer.transform(X_test)\n",
        "\n",
        "# Initialize and train the Random Forest classifier\n",
        "rf_classifier = RandomForestClassifier(n_estimators=100, random_state=42)\n",
        "rf_classifier.fit(X_train_tfidf, y_train)\n",
        "\n",
        "# Predict on the testing set\n",
        "y_pred = rf_classifier.predict(X_test_tfidf)"
      ]
    },
    {
      "cell_type": "code",
      "execution_count": 37,
      "metadata": {
        "colab": {
          "base_uri": "https://localhost:8080/"
        },
        "id": "sRLqG6DzSpD8",
        "outputId": "d6e346e6-52ee-481a-8290-c8e9eeab96cc"
      },
      "outputs": [
        {
          "data": {
            "text/plain": [
              "['../../models/classification/tfidf_vectorizer.pkl']"
            ]
          },
          "execution_count": 37,
          "metadata": {},
          "output_type": "execute_result"
        }
      ],
      "source": [
        "import os\n",
        "\n",
        "save_dir = '../../models/classification'\n",
        "\n",
        "# Create the directory if it doesn't exist\n",
        "os.makedirs(save_dir, exist_ok=True)\n",
        "\n",
        "# Define the filename for the saved model\n",
        "model_filename = 'rf_classifier_model.pkl'\n",
        "\n",
        "save_path = os.path.join(save_dir, model_filename)\n",
        "\n",
        "joblib.dump(rf_classifier, save_path)\n",
        "\n",
        "vectorizer_filename = 'tfidf_vectorizer.pkl'\n",
        "vectorizer_path = os.path.join(save_dir, vectorizer_filename)\n",
        "joblib.dump(vectorizer, vectorizer_path)\n"
      ]
    },
    {
      "cell_type": "code",
      "execution_count": 38,
      "metadata": {
        "colab": {
          "base_uri": "https://localhost:8080/",
          "height": 35
        },
        "id": "PUjQquq_TE6t",
        "outputId": "160e180a-7bb6-4df7-922b-64e23ba8ae76"
      },
      "outputs": [
        {
          "data": {
            "text/plain": [
              "'Python Developer'"
            ]
          },
          "execution_count": 38,
          "metadata": {},
          "output_type": "execute_result"
        }
      ],
      "source": [
        "new_data = \"Zia Ur Rehman \\nMERN DEVELOPER \\nziar4556@gmail.com \\n03174557957 \\nLahore,54000, Pakistan \\nEDUCATION \\nInter in Computer Science \\nPunjab College of Information and Technology \\n08/2018 - 04/2020\\n, \\n \\nLahore,Pakistan \\nBachelor In Computer Science \\nUniversity of Management and Technology \\n09/2020 - Present\\n, \\n \\nlahore,Pakistan' 3.56 cgp \\nGame Design & Development \\\\\\nReplica of Hill Climb \\nSoftware Engineering \\\\ Quick\\nSolution (website) \\nWORK EXPERIENCE \\nIntern as Web Developer \\nSmart Seo \\n09/2022 - 02/2023\\n, \\n \\nAccomplish Tasks\\\\ projects given by head \\nLearn New Frameworks \\nSKILLS \\nTeamwork \\nProject Leading \\nCommunication Skills \\nFrontEnd Developer \\nGame Design and Development \\nDatabase \\nPython 3 Programming \\nProgramming in C++ \\nPERSONAL PROJECTS \\nAuto Mobile Portfolio\\n (07/2022 - Present)\\n \\nTensiz Game (React-js)\\n (02/2023 - Present)\\n \\nCERTIFICATES \\nCertiﬁcate of Participation (SOFTEC)\\n (04/2023 - Present)\\n \\nParticipation in Programming Competition \\nFront End Web Development\\n (10/2022 - Present)\\n \\nCertiﬁcate by Pakistan freelancing training program in Batch 5\\nand get A grade \\nCertiﬁcate of Participation (GDSC)\\n (01/2023 - Present)\\n \\nCertiﬁcate of Participation into \\\"The New era of Internet\\\" by\\nGoogle Developer Student Club \\nPython Programming\\n (10/2022 - Present)\\n \\nHacker Rank \\nLANGUAGES \\nUrdu \\nNative or Bilingual Proﬁciency \\nEnglish \\nProfessional Working Proﬁciency \\nPunjabi \\nNative or Bilingual Proﬁciency \\nChinese \\nElementary Proﬁciency \\nProjects \\nAchievements/Tasks\"\n",
        "saved_model = joblib.load(save_path)\n",
        "\n",
        "# Assuming you have new textual data stored in a variable 'new_data'\n",
        "new_data_tfidf = vectorizer.transform([new_data])\n",
        "\n",
        "# Make predictions using the loaded model\n",
        "predictions = saved_model.predict(new_data_tfidf)\n",
        "predictions[0]"
      ]
    },
    {
      "cell_type": "code",
      "execution_count": 39,
      "metadata": {
        "colab": {
          "base_uri": "https://localhost:8080/"
        },
        "id": "YeRV06QdRsQU",
        "outputId": "5e248a9c-d1ec-4d9d-ac23-f29cef21270e"
      },
      "outputs": [
        {
          "name": "stdout",
          "output_type": "stream",
          "text": [
            "Accuracy: 0.9896373056994818\n",
            "Classification Report:\n",
            "                           precision    recall  f1-score   support\n",
            "\n",
            "                 Advocate       1.00      0.33      0.50         3\n",
            "                     Arts       1.00      1.00      1.00         6\n",
            "       Automation Testing       1.00      1.00      1.00         5\n",
            "               Blockchain       1.00      1.00      1.00         7\n",
            "         Business Analyst       1.00      1.00      1.00         4\n",
            "           Civil Engineer       1.00      1.00      1.00         9\n",
            "             Data Science       1.00      1.00      1.00         5\n",
            "                 Database       1.00      1.00      1.00         8\n",
            "          DevOps Engineer       1.00      1.00      1.00        14\n",
            "         DotNet Developer       1.00      1.00      1.00         5\n",
            "            ETL Developer       1.00      1.00      1.00         7\n",
            "   Electrical Engineering       1.00      1.00      1.00         6\n",
            "                       HR       0.86      1.00      0.92        12\n",
            "                   Hadoop       1.00      1.00      1.00         4\n",
            "       Health and fitness       1.00      1.00      1.00         7\n",
            "           Java Developer       1.00      1.00      1.00        15\n",
            "      Mechanical Engineer       1.00      1.00      1.00         8\n",
            "Network Security Engineer       1.00      1.00      1.00         3\n",
            "       Operations Manager       1.00      1.00      1.00        12\n",
            "                      PMO       1.00      1.00      1.00         7\n",
            "         Python Developer       1.00      1.00      1.00        10\n",
            "            SAP Developer       1.00      1.00      1.00         7\n",
            "                    Sales       1.00      1.00      1.00         8\n",
            "                  Testing       1.00      1.00      1.00        16\n",
            "            Web Designing       1.00      1.00      1.00         5\n",
            "\n",
            "                 accuracy                           0.99       193\n",
            "                macro avg       0.99      0.97      0.98       193\n",
            "             weighted avg       0.99      0.99      0.99       193\n",
            "\n"
          ]
        }
      ],
      "source": [
        "accuracy = accuracy_score(y_test, y_pred)\n",
        "print(\"Accuracy:\", accuracy)\n",
        "\n",
        "# Print classification report\n",
        "print(\"Classification Report:\")\n",
        "print(classification_report(y_test, y_pred))"
      ]
    },
    {
      "cell_type": "code",
      "execution_count": null,
      "metadata": {
        "id": "oGkGCHebR24h"
      },
      "outputs": [],
      "source": []
    }
  ],
  "metadata": {
    "colab": {
      "provenance": []
    },
    "kernelspec": {
      "display_name": "Python 3",
      "name": "python3"
    },
    "language_info": {
      "codemirror_mode": {
        "name": "ipython",
        "version": 3
      },
      "file_extension": ".py",
      "mimetype": "text/x-python",
      "name": "python",
      "nbconvert_exporter": "python",
      "pygments_lexer": "ipython3",
      "version": "3.11.2"
    }
  },
  "nbformat": 4,
  "nbformat_minor": 0
}
