{
  "cells": [
    {
      "cell_type": "code",
      "execution_count": 1,
      "metadata": {
        "id": "hvqiq7JjzWfT"
      },
      "outputs": [],
      "source": [
        "from sklearn.model_selection import train_test_split\n",
        "\n",
        "import spacy\n",
        "from spacy.tokens import DocBin\n",
        "from tqdm import tqdm\n",
        "import json"
      ]
    },
    {
      "cell_type": "code",
      "execution_count": 3,
      "metadata": {
        "id": "Qst1liVBzWoJ"
      },
      "outputs": [],
      "source": [
        "with open('../../datasets/dataset.json', 'r') as file:\n",
        "    cv_data = json.load(file)"
      ]
    },
    {
      "cell_type": "code",
      "execution_count": 4,
      "metadata": {
        "colab": {
          "base_uri": "https://localhost:8080/"
        },
        "id": "p2u965MIzWq-",
        "outputId": "cbe0639d-b834-4227-f50e-4faff6da8ac2"
      },
      "outputs": [
        {
          "data": {
            "text/plain": [
              "1014"
            ]
          },
          "execution_count": 4,
          "metadata": {},
          "output_type": "execute_result"
        }
      ],
      "source": [
        "len(cv_data)"
      ]
    },
    {
      "cell_type": "code",
      "execution_count": null,
      "metadata": {},
      "outputs": [],
      "source": [
        "cv_data[0]"
      ]
    },
    {
      "cell_type": "code",
      "execution_count": 6,
      "metadata": {
        "colab": {
          "base_uri": "https://localhost:8080/"
        },
        "id": "QQHsipYHAKA2",
        "outputId": "a7e3e153-ad97-489c-bcf4-f8f884a3252a"
      },
      "outputs": [
        {
          "name": "stdout",
          "output_type": "stream",
          "text": [
            "/Users/ziaurrehman/Desktop/fyp/rankresume/server/lib/python3.11/site-packages/transformers/utils/generic.py:441: UserWarning: torch.utils._pytree._register_pytree_node is deprecated. Please use torch.utils._pytree.register_pytree_node instead.\n",
            "  _torch_pytree._register_pytree_node(\n",
            "/Users/ziaurrehman/Desktop/fyp/rankresume/server/lib/python3.11/site-packages/transformers/utils/generic.py:309: UserWarning: torch.utils._pytree._register_pytree_node is deprecated. Please use torch.utils._pytree.register_pytree_node instead.\n",
            "  _torch_pytree._register_pytree_node(\n",
            "\u001b[38;5;2m✔ Auto-filled config with all values\u001b[0m\n",
            "\u001b[38;5;2m✔ Saved config\u001b[0m\n",
            "../../config/config.cfg\n",
            "You can now add your data and train your pipeline:\n",
            "python -m spacy train config.cfg --paths.train ./train.spacy --paths.dev ./dev.spacy\n"
          ]
        }
      ],
      "source": [
        "!python -m spacy init fill-config ../../config/base-config.cfg ../../config/config.cfg"
      ]
    },
    {
      "cell_type": "code",
      "execution_count": 7,
      "metadata": {
        "id": "wnZ-DsLsAKGP"
      },
      "outputs": [],
      "source": [
        "\n",
        "train,test =train_test_split(cv_data,test_size=0.3)"
      ]
    },
    {
      "cell_type": "code",
      "execution_count": 8,
      "metadata": {
        "colab": {
          "base_uri": "https://localhost:8080/"
        },
        "id": "UakLJxqKLmU8",
        "outputId": "040e92a9-84c9-4957-8277-872c50cd0fef"
      },
      "outputs": [
        {
          "data": {
            "text/plain": [
              "(709, 305)"
            ]
          },
          "execution_count": 8,
          "metadata": {},
          "output_type": "execute_result"
        }
      ],
      "source": [
        "len(train), len(test)"
      ]
    },
    {
      "cell_type": "code",
      "execution_count": 10,
      "metadata": {
        "id": "7FrmcrC_AKDj"
      },
      "outputs": [],
      "source": [
        "def get_spacy_doc(file, data):\n",
        "    nlp = spacy.blank(\"en\")\n",
        "    db = DocBin()\n",
        "\n",
        "    for text, annot in tqdm(data, desc=\"Processing data\"):\n",
        "        doc = nlp.make_doc(text)\n",
        "        ents = []\n",
        "        entity_indices = set()\n",
        "\n",
        "        for start, end, label in annot.get('entities', []):\n",
        "            # Check if start index is greater than or equal to end index\n",
        "            if start >= end:\n",
        "                file.write(f\"Invalid indices: start={start}, end={end}, text={text}\\n\")\n",
        "                continue\n",
        "\n",
        "            # Check for overlapping entities\n",
        "            if any(idx in entity_indices for idx in range(start, end)):\n",
        "                continue\n",
        "\n",
        "            entity_indices.update(range(start, end))\n",
        "\n",
        "            try:\n",
        "                span = doc.char_span(start, end, label=label, alignment_mode='strict')\n",
        "            except ValueError as e:\n",
        "                # Handle span creation errors\n",
        "                file.write(f\"Error creating span: {e}\\n\")\n",
        "                continue\n",
        "\n",
        "            if span is not None:\n",
        "                ents.append(span)\n",
        "\n",
        "        # Set entity spans for the document\n",
        "        doc.ents = ents\n",
        "        db.add(doc)\n",
        "\n",
        "    return db"
      ]
    },
    {
      "cell_type": "code",
      "execution_count": 13,
      "metadata": {
        "colab": {
          "base_uri": "https://localhost:8080/"
        },
        "id": "-vUDb2FUAKLV",
        "outputId": "c1d72b80-6cfc-440d-d3fe-9badf6475e3e"
      },
      "outputs": [
        {
          "name": "stderr",
          "output_type": "stream",
          "text": [
            "Processing data: 100%|██████████| 709/709 [00:01<00:00, 367.31it/s]\n",
            "Processing data: 100%|██████████| 305/305 [00:00<00:00, 361.40it/s]\n"
          ]
        }
      ],
      "source": [
        "with open('../../datasets/dataset.json', 'r') as file:\n",
        "\n",
        "    db =get_spacy_doc(file,train)\n",
        "    db.to_disk('../../datasets/train.spacy')\n",
        "\n",
        "    db =get_spacy_doc(file,test)\n",
        "    db.to_disk('../../datasets/test.spacy')"
      ]
    },
    {
      "cell_type": "code",
      "execution_count": 15,
      "metadata": {
        "colab": {
          "base_uri": "https://localhost:8080/"
        },
        "id": "c_Z341lyAKOz",
        "outputId": "d09dc935-7ae6-4554-cb15-391de61bcacf"
      },
      "outputs": [
        {
          "name": "stdout",
          "output_type": "stream",
          "text": [
            "\u001b[38;5;2m✔ Created output directory: ../../datasets/output\u001b[0m\n",
            "\u001b[38;5;4mℹ Saving to output directory: ../../datasets/output\u001b[0m\n",
            "\u001b[38;5;4mℹ Using CPU\u001b[0m\n",
            "\u001b[38;5;4mℹ To switch to GPU 0, use the option: --gpu-id 0\u001b[0m\n",
            "\u001b[1m\n",
            "=========================== Initializing pipeline ===========================\u001b[0m\n",
            "/Users/ziaurrehman/Desktop/fyp/rankresume/server/lib/python3.11/site-packages/transformers/utils/generic.py:441: UserWarning: torch.utils._pytree._register_pytree_node is deprecated. Please use torch.utils._pytree.register_pytree_node instead.\n",
            "  _torch_pytree._register_pytree_node(\n",
            "/Users/ziaurrehman/Desktop/fyp/rankresume/server/lib/python3.11/site-packages/transformers/utils/generic.py:309: UserWarning: torch.utils._pytree._register_pytree_node is deprecated. Please use torch.utils._pytree.register_pytree_node instead.\n",
            "  _torch_pytree._register_pytree_node(\n",
            "\u001b[38;5;2m✔ Initialized pipeline\u001b[0m\n",
            "\u001b[1m\n",
            "============================= Training pipeline =============================\u001b[0m\n",
            "\u001b[38;5;4mℹ Pipeline: ['tok2vec', 'ner']\u001b[0m\n",
            "\u001b[38;5;4mℹ Initial learn rate: 0.001\u001b[0m\n",
            "E    #       LOSS TOK2VEC  LOSS NER  ENTS_F  ENTS_P  ENTS_R  SCORE \n",
            "---  ------  ------------  --------  ------  ------  ------  ------\n",
            "  0       0          0.00    136.90    0.00    0.00    0.00    0.00\n",
            "  0     200       6729.96  15860.79   36.26   50.68   28.22    0.36\n",
            "  0     400       1077.62   6718.59   52.14   51.39   52.91    0.52\n",
            "  0     600       8557.33   5948.50   60.65   65.14   56.73    0.61\n",
            "  1     800       3567.67   5417.40   66.10   67.08   65.16    0.66\n",
            "  1    1000      10452.46   4871.54   69.03   73.06   65.43    0.69\n",
            "  1    1200       3794.29   4272.62   70.60   71.68   69.55    0.71\n",
            "  1    1400       3751.03   4481.36   70.18   70.74   69.62    0.70\n",
            "  2    1600      17647.08   3992.49   71.76   74.99   68.81    0.72\n",
            "  2    1800       4667.11   3655.53   74.01   73.98   74.04    0.74\n",
            "  2    2000       2973.12   3227.06   73.80   75.87   71.83    0.74\n",
            "  3    2200       2589.87   3192.14   74.00   75.80   72.29    0.74\n",
            "  3    2400       3082.31   3325.41   76.09   75.98   76.20    0.76\n",
            "  3    2600       2542.22   3320.14   74.34   72.84   75.91    0.74\n",
            "  3    2800       3762.05   3193.49   74.64   74.90   74.38    0.75\n",
            "  4    3000       4074.72   2634.41   75.27   74.37   76.20    0.75\n",
            "  4    3200       3669.93   3359.16   77.11   80.78   73.76    0.77\n",
            "  4    3400       3024.85   2896.97   74.29   76.44   72.25    0.74\n",
            "  5    3600       4287.11   3053.59   76.71   82.18   71.92    0.77\n",
            "  5    3800       4517.93   3242.66   78.16   79.72   76.66    0.78\n",
            "  5    4000       2445.69   2999.99   77.60   79.23   76.03    0.78\n",
            "  6    4200       5144.74   3399.09   77.35   80.32   74.58    0.77\n",
            "  6    4400       3865.67   3281.96   78.00   79.80   76.28    0.78\n",
            "  7    4600      14865.31   3576.85   78.24   79.77   76.78    0.78\n",
            "  7    4800       5941.04   3907.05   78.61   78.81   78.41    0.79\n",
            "  8    5000       4321.21   3822.54   78.54   79.62   77.49    0.79\n",
            "  8    5200       5183.65   3816.11   77.83   80.34   75.48    0.78\n",
            "  9    5400       5823.60   3598.51   78.63   80.44   76.90    0.79\n",
            " 10    5600       7791.42   3708.65   78.13   80.32   76.06    0.78\n",
            " 10    5800       8958.57   3509.32   77.77   78.41   77.13    0.78\n",
            " 11    6000       4639.90   3085.06   77.53   80.31   74.94    0.78\n",
            " 11    6200       3810.11   3126.02   78.59   81.63   75.76    0.79\n",
            " 12    6400       3947.67   2905.64   78.50   79.14   77.87    0.78\n",
            " 13    6600       4108.08   3096.53   77.94   78.80   77.09    0.78\n",
            " 13    6800       6078.47   2978.18   78.61   80.89   76.45    0.79\n",
            " 14    7000       4419.30   2881.15   77.82   79.87   75.87    0.78\n",
            "\u001b[38;5;2m✔ Saved pipeline to output directory\u001b[0m\n",
            "../../datasets/output/model-last\n"
          ]
        }
      ],
      "source": [
        "!python -m spacy train ../../config/config.cfg --output ../../datasets/output --paths.train ../../datasets/train.spacy --paths.dev ../../datasets/test.spacy"
      ]
    },
    {
      "cell_type": "code",
      "execution_count": 29,
      "metadata": {
        "id": "Fvcnq6fWNR5N"
      },
      "outputs": [],
      "source": [
        "import PyPDF2\n",
        "\n",
        "def extract_text_from_pdf(pdf_path):\n",
        "    text = \"\"\n",
        "    with open(pdf_path, 'rb') as file:\n",
        "        reader = PyPDF2.PdfReader(file)\n",
        "        for page_num in range(len(reader.pages)):\n",
        "            page = reader.pages[page_num]\n",
        "            text += page.extract_text()\n",
        "    return text\n",
        "\n",
        "# Example usage\n",
        "pdf_path = \"../../datasets/test/Zia-ur-rehman.pdf\"\n",
        "extracted_text = extract_text_from_pdf(pdf_path)"
      ]
    },
    {
      "cell_type": "code",
      "execution_count": 30,
      "metadata": {
        "id": "XnOIOw8XOQT8"
      },
      "outputs": [
        {
          "data": {
            "text/plain": [
              "\"Objective\\nTechnichal\\nExpertise\\nProjects\\n10/2022  — 01/2023 Work Experience\\n08/2020  — 08/2024 Education\\nCertificationsEnthusiastic CS student with a passion for web development and a strong foundation in javascript. Seeking opportunities to apply\\nmy coding skills, creativity , and problem-solving abilities to contribute to dynamic projects and enhance user experiences. Eager to\\ncollaborate with forward-thinking teams and continue to expand my expertise in the world of technology .\\nProblem Solving\\nProject Management\\nJavascript Developer\\nReact js\\nNode js\\nDatabase (MongoDB)\\nVersion Control (git, GitHub)\\nAdelite (MERN) advertising website to list products around globe\\nBlogger (MERN) Blog community \\nCoin Bounce App (MERN)\\nE-commerce Store (MERN)\\nQuiz App (React)\\nTennis Game (React)\\nWeb Developer Intern\\nWorked as web developer intern at smart set. There I worked with senior developer and explore new technologies and enhanced\\nmy logical building and development skills.\\nUniversity of Management and T echnology\\nFrontend Development (PFTP)\\nProgramming Competition (Softec '23)\\nPython Programming (Hacker Rank)\\ue807 03174557957\\n\\ue808 ziar4556@gmail.com\\n\\uf07b www.linkedin.com/in/zia-ur-rehman-\\nsandhu\\ue80b Address\\nLahore,PakistanZia Ur Rehman\\nSmart Seo , Lahor e, Pakistan\\nBs Computer Science\""
            ]
          },
          "execution_count": 30,
          "metadata": {},
          "output_type": "execute_result"
        }
      ],
      "source": [
        "extracted_text"
      ]
    },
    {
      "cell_type": "code",
      "execution_count": 31,
      "metadata": {
        "colab": {
          "base_uri": "https://localhost:8080/"
        },
        "id": "6-7iGhxkORix",
        "outputId": "726a7f1f-714c-4b2a-8029-33a7446bbb4d"
      },
      "outputs": [
        {
          "name": "stdout",
          "output_type": "stream",
          "text": [
            "CertificationsEnthusiastic CS student with a passion for web development and a strong foundation in javascript. Seeking opportunities to apply\n",
            "my coding skills, creativity , and problem-solving abilities to contribute to dynamic projects and enhance user experiences. Eager to\n",
            "collaborate with forward-thinking teams and continue to expand my expertise in the world of technology .\n",
            "Problem Solving   ->>>>>>>   CERTIFICATION\n",
            "Project Management   ->>>>>>>   SKILLS\n",
            "Javascript Developer   ->>>>>>>   SKILLS\n",
            "React js   ->>>>>>>   SKILLS\n",
            "Node js   ->>>>>>>   SKILLS\n",
            "Database (MongoDB)   ->>>>>>>   SKILLS\n",
            "E-commerce Store (MERN)   ->>>>>>>   SKILLS\n",
            "Quiz App (React)   ->>>>>>>   SKILLS\n",
            "Web Developer Intern   ->>>>>>>   WORKED AS\n",
            "Frontend Development (PFTP)   ->>>>>>>   WORKED AS\n",
            "Programming Competition (Softec '23)   ->>>>>>>   CERTIFICATION\n",
            "Python Programming (Hacker Rank) 03174557957   ->>>>>>>   CERTIFICATION\n",
            "Bs Computer Science   ->>>>>>>   COMPANIES WORKED AT\n"
          ]
        }
      ],
      "source": [
        "nlp = spacy.load(\"../../datasets/output/model-best\")\n",
        "doc = nlp(extracted_text)\n",
        "for ent in doc.ents:\n",
        "  print(ent.text,  \"  ->>>>>>>  \", ent.label_)"
      ]
    },
    {
      "cell_type": "code",
      "execution_count": null,
      "metadata": {},
      "outputs": [],
      "source": []
    }
  ],
  "metadata": {
    "colab": {
      "provenance": []
    },
    "kernelspec": {
      "display_name": "Python 3",
      "name": "python3"
    },
    "language_info": {
      "codemirror_mode": {
        "name": "ipython",
        "version": 3
      },
      "file_extension": ".py",
      "mimetype": "text/x-python",
      "name": "python",
      "nbconvert_exporter": "python",
      "pygments_lexer": "ipython3",
      "version": "3.11.2"
    }
  },
  "nbformat": 4,
  "nbformat_minor": 0
}
